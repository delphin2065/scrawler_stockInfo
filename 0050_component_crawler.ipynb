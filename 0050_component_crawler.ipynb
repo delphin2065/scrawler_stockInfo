{
 "cells": [
  {
   "cell_type": "markdown",
   "metadata": {},
   "source": [
    "### 0050成分股獲利數據抓取"
   ]
  },
  {
   "cell_type": "code",
   "execution_count": 1,
   "metadata": {},
   "outputs": [],
   "source": [
    "import requests as re\n",
    "from bs4 import BeautifulSoup\n",
    "import pandas as pd\n",
    "import numpy as np\n",
    "import os\n",
    "import datetime as dt"
   ]
  },
  {
   "cell_type": "markdown",
   "metadata": {},
   "source": [
    "### 鉅亨網 > 0050成分股清單抓取"
   ]
  },
  {
   "cell_type": "code",
   "execution_count": 85,
   "metadata": {},
   "outputs": [
    {
     "name": "stdout",
     "output_type": "stream",
     "text": [
      "['1101', '1102', '1216', '1301', '1303', '1326', '1402', '2002', '2105', '2207', '2301', '2303', '2308', '2317', '2327', '2330', '2357', '2382', '2395', '2408', '2412', '2454', '2474', '2633', '2801', '2823', '2880', '2881', '2882', '2883', '2884', '2885', '2886', '2887', '2888', '2890', '2891', '2892', '2912', '3008', '3045', '3711', '4904', '4938', '5871', '5876', '5880', '6505', '9904', '9910']\n"
     ]
    }
   ],
   "source": [
    "url = 'https://www.cnyes.com/twstock/ingredient.aspx?code=0050'\n",
    "\n",
    "headers = {\n",
    "    'User-Agent': 'Mozilla/5.0 (Windows NT 10.0; Win64; x64) AppleWebKit/537.36 (KHTML, like Gecko) Chrome/91.0.4472.124 Safari/537.36',\n",
    "    'Referer': 'https://fubon-ebrokerdj.fbs.com.tw/',\n",
    "    'Accept-Language': 'en-US,en;q=0.9',\n",
    "}\n",
    "res_j = re.get(url, headers=headers)\n",
    "soup = BeautifulSoup(res_j.text, 'html.parser')\n",
    "\n",
    "rows = soup.find_all('table', {'id':'TB'})[0].find_all('tr')\n",
    "sybq=[]\n",
    "for i in range(1, len(rows)):\n",
    "  rowsd = rows[i].find_all('td', {'class':'alignl'})\n",
    "  for j in range(len(rowsd)):\n",
    "    sybq.append(rowsd[j].text)\n",
    "\n",
    "print(sybq)\n"
   ]
  },
  {
   "cell_type": "markdown",
   "metadata": {},
   "source": [
    "### 富邦證券 > 0050經營績效資料抓取"
   ]
  },
  {
   "cell_type": "code",
   "execution_count": 86,
   "metadata": {},
   "outputs": [],
   "source": [
    "dfc = pd.DataFrame()\n",
    "\n",
    "for i in sybq:\n",
    "\n",
    "  # 用beautifulsoup 抓取網頁原始碼\n",
    "  url = 'https://fubon-ebrokerdj.fbs.com.tw/z/zc/zce/zce_' + str(i) + '.djhtm'\n",
    "  headers = {\n",
    "      'User-Agent': 'Mozilla/5.0 (Windows NT 10.0; Win64; x64) AppleWebKit/537.36 (KHTML, like Gecko) Chrome/91.0.4472.124 Safari/537.36',\n",
    "      'Referer': 'https://fubon-ebrokerdj.fbs.com.tw/',\n",
    "      'Accept-Language': 'en-US,en;q=0.9',\n",
    "  }\n",
    "  res_j = re.get(url, headers=headers)\n",
    "  soup = BeautifulSoup(res_j.text, 'html.parser')\n",
    "\n",
    "\n",
    "  # 抓取資料所在的tag\n",
    "  rows = soup.find_all('tr')\n",
    "  sybn = rows[3].find_all('td', {'class':'t10'})[0].text.split(')')[0] + ')'\n",
    "\n",
    "  lst_t = []\n",
    "  for r in rows[5:6]:\n",
    "    lst = []\n",
    "    for d in r.find_all('td'):\n",
    "      lst.append(d.text)\n",
    "    lst_t.append(lst)\n",
    "\n",
    "  lst_t = lst_t[0]\n",
    "\n",
    "  lst_c = []\n",
    "  for r in rows[6:-2]:\n",
    "    lst = []\n",
    "    for d in r.find_all('td'):\n",
    "      lst.append(d.text)\n",
    "    lst_c.append(lst)\n",
    "\n",
    "  lst_all = []\n",
    "  for i in lst_c:\n",
    "    dd={}\n",
    "    for j in range(len(i)):\n",
    "      dd[lst_t[j]]=i[j]\n",
    "    lst_all.append(dd)\n",
    "\n",
    "  df = pd.DataFrame(lst_all)\n",
    "  df.insert(0, '股票名稱', sybn)\n",
    "\n",
    "  # 彙整資料成為dataframe格式\n",
    "  dfc = pd.concat([dfc, df], axis=0)\n",
    "dfc.reset_index(inplace=True, drop=True) "
   ]
  },
  {
   "cell_type": "markdown",
   "metadata": {},
   "source": [
    "### 資料整理(文字轉數值)"
   ]
  },
  {
   "cell_type": "code",
   "execution_count": 89,
   "metadata": {},
   "outputs": [],
   "source": [
    "dff = dfc.copy()\n",
    "dff[dff.columns[2:]] = dff[dff.columns[2:]].astype(str).replace({',':'', '%':'', '':np.nan}, regex=True).astype(float)\n",
    "dff['毛利率'] = dff['毛利率']*0.01\n",
    "dff['營益率'] = dff['營益率']*0.01"
   ]
  },
  {
   "cell_type": "markdown",
   "metadata": {},
   "source": [
    "### 資料整理(季別轉日期)"
   ]
  },
  {
   "cell_type": "code",
   "execution_count": 97,
   "metadata": {},
   "outputs": [],
   "source": [
    "def chageDate(value):\n",
    "    if isinstance(value, str):\n",
    "        if '1Q' in value:\n",
    "            yrs = int(value.split('.')[0]) + 1911 \n",
    "            mon = 5\n",
    "            dat = 15\n",
    "            return dt.date(yrs, mon, dat)\n",
    "\n",
    "        if '2Q' in value:\n",
    "            yrs = int(value.split('.')[0]) + 1911 \n",
    "            mon = 8\n",
    "            dat = 14\n",
    "            return dt.date(yrs, mon, dat)\n",
    "\n",
    "        if '3Q' in value:\n",
    "            yrs = int(value.split('.')[0]) + 1911 \n",
    "            mon = 11\n",
    "            dat = 14\n",
    "            return dt.date(yrs, mon, dat)\n",
    "\n",
    "        if '4Q' in value:\n",
    "            yrs = int(value.split('.')[0]) + 1911 + 1\n",
    "            mon = 3\n",
    "            dat = 31\n",
    "            return dt.date(yrs, mon, dat)\n",
    "\n",
    "dff['季別'] = dff['季別'].map(chageDate)"
   ]
  },
  {
   "cell_type": "markdown",
   "metadata": {},
   "source": [
    "### 資料匯出"
   ]
  },
  {
   "cell_type": "code",
   "execution_count": 2,
   "metadata": {},
   "outputs": [
    {
     "ename": "NameError",
     "evalue": "name 'dff' is not defined",
     "output_type": "error",
     "traceback": [
      "\u001b[1;31m---------------------------------------------------------------------------\u001b[0m",
      "\u001b[1;31mNameError\u001b[0m                                 Traceback (most recent call last)",
      "Cell \u001b[1;32mIn[2], line 1\u001b[0m\n\u001b[1;32m----> 1\u001b[0m \u001b[38;5;28mprint\u001b[39m(\u001b[43mdff\u001b[49m\u001b[38;5;241m.\u001b[39mhead(\u001b[38;5;241m20\u001b[39m)\u001b[38;5;241m.\u001b[39mto_string())\n\u001b[0;32m      2\u001b[0m dff\u001b[38;5;241m.\u001b[39mto_csv(os\u001b[38;5;241m.\u001b[39mpath\u001b[38;5;241m.\u001b[39mjoin(os\u001b[38;5;241m.\u001b[39mgetcwd() , \u001b[38;5;124m'\u001b[39m\u001b[38;5;124m0050成分股_獲利能力.csv\u001b[39m\u001b[38;5;124m'\u001b[39m), encoding\u001b[38;5;241m=\u001b[39m\u001b[38;5;124m'\u001b[39m\u001b[38;5;124mutf-8-sig\u001b[39m\u001b[38;5;124m'\u001b[39m)\n",
      "\u001b[1;31mNameError\u001b[0m: name 'dff' is not defined"
     ]
    }
   ],
   "source": [
    "print(dff.head(20).to_string())\n",
    "dff.to_csv(os.path.join(os.getcwd() , '0050成分股_獲利能力.csv'), encoding='utf-8-sig')"
   ]
  },
  {
   "cell_type": "code",
   "execution_count": null,
   "metadata": {},
   "outputs": [],
   "source": []
  },
  {
   "cell_type": "code",
   "execution_count": null,
   "metadata": {},
   "outputs": [],
   "source": []
  }
 ],
 "metadata": {
  "kernelspec": {
   "display_name": ".venv",
   "language": "python",
   "name": "python3"
  },
  "language_info": {
   "codemirror_mode": {
    "name": "ipython",
    "version": 3
   },
   "file_extension": ".py",
   "mimetype": "text/x-python",
   "name": "python",
   "nbconvert_exporter": "python",
   "pygments_lexer": "ipython3",
   "version": "3.10.11"
  }
 },
 "nbformat": 4,
 "nbformat_minor": 2
}
