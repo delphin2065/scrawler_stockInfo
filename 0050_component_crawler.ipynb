{
 "cells": [
  {
   "cell_type": "markdown",
   "metadata": {},
   "source": [
    "### 0050成分股獲利數據抓取"
   ]
  },
  {
   "cell_type": "code",
   "execution_count": 2,
   "metadata": {},
   "outputs": [],
   "source": [
    "import requests as re\n",
    "from bs4 import BeautifulSoup\n",
    "import pandas as pd\n",
    "import numpy as np\n",
    "import os\n",
    "import datetime as dt"
   ]
  },
  {
   "cell_type": "markdown",
   "metadata": {},
   "source": [
    "### 維基百科 > 0050成分股清單抓取"
   ]
  },
  {
   "cell_type": "code",
   "execution_count": 3,
   "metadata": {},
   "outputs": [
    {
     "name": "stdout",
     "output_type": "stream",
     "text": [
      "['1101', '2883', '1216', '2884', '1301', '2885', '1303', '2886', '1326', '2887', '2002', '2890', '2207', '2891', '2301', '2892', '2303', '2912', '2308', '3008', '2317', '3017', '2327', '3034', '2330', '3037', '2345', '3045', '2357', '3231', '2379', '3661', '2382', '3711', '2395', '4904', '2412', '4938', '2454', '5871', '2603', '5876', '2609', '5880', '2880', '6446', '2881', '6505', '2882', '6669']\n"
     ]
    }
   ],
   "source": [
    "url = 'https://zh.wikipedia.org/zh-tw/%E8%87%BA%E7%81%A350%E6%8C%87%E6%95%B8'\n",
    "\n",
    "headers = {\n",
    "    'User-Agent': 'Mozilla/5.0 (Windows NT 10.0; Win64; x64) AppleWebKit/537.36 (KHTML, like Gecko) Chrome/91.0.4472.124 Safari/537.36',\n",
    "    'Referer': 'https://fubon-ebrokerdj.fbs.com.tw/',\n",
    "    'Accept-Language': 'en-US,en;q=0.9',\n",
    "}\n",
    "res_j = re.get(url, headers=headers)\n",
    "soup = BeautifulSoup(res_j.text, 'html.parser')\n",
    "\n",
    "rows = soup.find_all('table', {'class':'wikitable'})[0].find_all('tr')\n",
    "\n",
    "sybq = []\n",
    "for i in range(1, len(rows)):\n",
    "  sybq.append(rows[i].find_all('a')[1].find_all('b')[0].text)\n",
    "  sybq.append(rows[i].find_all('a')[4].find_all('b')[0].text)\n",
    "\n",
    "print(sybq)"
   ]
  },
  {
   "cell_type": "markdown",
   "metadata": {},
   "source": [
    "### 富邦證券 > 0050經營績效資料抓取"
   ]
  },
  {
   "cell_type": "code",
   "execution_count": 4,
   "metadata": {},
   "outputs": [],
   "source": [
    "dfc = pd.DataFrame()\n",
    "\n",
    "for i in sybq:\n",
    "\n",
    "  # 用beautifulsoup 抓取網頁原始碼\n",
    "  url = 'https://fubon-ebrokerdj.fbs.com.tw/z/zc/zce/zce_' + str(i) + '.djhtm'\n",
    "  headers = {\n",
    "      'User-Agent': 'Mozilla/5.0 (Windows NT 10.0; Win64; x64) AppleWebKit/537.36 (KHTML, like Gecko) Chrome/91.0.4472.124 Safari/537.36',\n",
    "      'Referer': 'https://fubon-ebrokerdj.fbs.com.tw/',\n",
    "      'Accept-Language': 'en-US,en;q=0.9',\n",
    "  }\n",
    "  res_j = re.get(url, headers=headers)\n",
    "  soup = BeautifulSoup(res_j.text, 'html.parser')\n",
    "\n",
    "\n",
    "  # 抓取資料所在的tag\n",
    "  rows = soup.find_all('tr')\n",
    "  sybn = rows[3].find_all('td', {'class':'t10'})[0].text.split(')')[0] + ')'\n",
    "\n",
    "  lst_t = []\n",
    "  for r in rows[5:6]:\n",
    "    lst = []\n",
    "    for d in r.find_all('td'):\n",
    "      lst.append(d.text)\n",
    "    lst_t.append(lst)\n",
    "\n",
    "  lst_t = lst_t[0]\n",
    "\n",
    "  lst_c = []\n",
    "  for r in rows[6:-2]:\n",
    "    lst = []\n",
    "    for d in r.find_all('td'):\n",
    "      lst.append(d.text)\n",
    "    lst_c.append(lst)\n",
    "\n",
    "  lst_all = []\n",
    "  for i in lst_c:\n",
    "    dd={}\n",
    "    for j in range(len(i)):\n",
    "      dd[lst_t[j]]=i[j]\n",
    "    lst_all.append(dd)\n",
    "\n",
    "  df = pd.DataFrame(lst_all)\n",
    "  df.insert(0, '股票名稱', sybn)\n",
    "\n",
    "  # 彙整資料成為dataframe格式\n",
    "  dfc = pd.concat([dfc, df], axis=0)\n",
    "dfc.reset_index(inplace=True, drop=True) "
   ]
  },
  {
   "cell_type": "markdown",
   "metadata": {},
   "source": [
    "### 資料整理(文字轉數值)"
   ]
  },
  {
   "cell_type": "code",
   "execution_count": 5,
   "metadata": {},
   "outputs": [],
   "source": [
    "dff = dfc.copy()\n",
    "dff[dff.columns[2:]] = dff[dff.columns[2:]].astype(str).replace({',':'', '%':'', '':np.nan}, regex=True).astype(float)\n",
    "dff['毛利率'] = dff['毛利率']*0.01\n",
    "dff['營益率'] = dff['營益率']*0.01"
   ]
  },
  {
   "cell_type": "markdown",
   "metadata": {},
   "source": [
    "### 資料整理(季別轉日期)"
   ]
  },
  {
   "cell_type": "code",
   "execution_count": 6,
   "metadata": {},
   "outputs": [],
   "source": [
    "def chageDate(value):\n",
    "    if isinstance(value, str):\n",
    "        if '1Q' in value:\n",
    "            yrs = int(value.split('.')[0]) + 1911 \n",
    "            mon = 5\n",
    "            dat = 15\n",
    "            return dt.date(yrs, mon, dat)\n",
    "\n",
    "        if '2Q' in value:\n",
    "            yrs = int(value.split('.')[0]) + 1911 \n",
    "            mon = 8\n",
    "            dat = 14\n",
    "            return dt.date(yrs, mon, dat)\n",
    "\n",
    "        if '3Q' in value:\n",
    "            yrs = int(value.split('.')[0]) + 1911 \n",
    "            mon = 11\n",
    "            dat = 14\n",
    "            return dt.date(yrs, mon, dat)\n",
    "\n",
    "        if '4Q' in value:\n",
    "            yrs = int(value.split('.')[0]) + 1911 + 1\n",
    "            mon = 3\n",
    "            dat = 31\n",
    "            return dt.date(yrs, mon, dat)\n",
    "\n",
    "dff['季別'] = dff['季別'].map(chageDate)"
   ]
  },
  {
   "cell_type": "markdown",
   "metadata": {},
   "source": [
    "### 資料匯出"
   ]
  },
  {
   "cell_type": "code",
   "execution_count": 7,
   "metadata": {},
   "outputs": [
    {
     "name": "stdout",
     "output_type": "stream",
     "text": [
      "        股票名稱          季別     營業收入     營業成本     營業毛利     毛利率    營業利益     營益率    業外收支     稅前淨利    稅後淨利  EPS(元)\n",
      "0   台泥(1101)  2024-11-14  41075.0  31106.0   9969.0  0.2427  6270.0  0.1526   237.0   6507.0  3141.0    0.42\n",
      "1   台泥(1101)  2024-08-14  38969.0  31513.0   7456.0  0.1913  4325.0  0.1110  1138.0   5463.0  2267.0    0.25\n",
      "2   台泥(1101)  2024-05-15  25545.0  21657.0   3887.0  0.1522  1200.0  0.0470  2151.0   3351.0  1956.0    0.26\n",
      "3   台泥(1101)  2024-03-31  28348.0  22043.0   6305.0  0.2224  3434.0  0.1211   384.0   3817.0  1802.0    0.25\n",
      "4   台泥(1101)  2023-11-14  27002.0  21227.0   5775.0  0.2139  3062.0  0.1134   215.0   3277.0  1247.0    0.17\n",
      "5   台泥(1101)  2023-08-14  27668.0  21683.0   5985.0  0.2163  3368.0  0.1217  2414.0   5782.0  3542.0    0.45\n",
      "6   台泥(1101)  2023-05-15  26296.0  23827.0   2469.0  0.0939   166.0  0.0063  1315.0   1481.0  1407.0    0.20\n",
      "7   台泥(1101)  2023-03-31  34655.0  29322.0   5333.0  0.1539  2335.0  0.0674  1471.0   3805.0  2487.0    0.36\n",
      "8   台泥(1101)  2022-11-14  31123.0  28539.0   2584.0  0.0830   628.0  0.0202  1476.0   2103.0  1510.0    0.22\n",
      "9   台泥(1101)  2022-08-14  25178.0  25046.0    132.0  0.0052 -2008.0 -0.0797  1573.0   -435.0   204.0   -0.02\n",
      "10  台泥(1101)  2022-05-15  22973.0  20887.0   2087.0  0.0908   208.0  0.0090   964.0   1172.0  1204.0    0.20\n",
      "11  台泥(1101)  2022-03-31  30137.0  22796.0   7341.0  0.2436  4679.0  0.1553  2053.0   6733.0  5420.0    0.90\n",
      "12  台泥(1101)  2021-11-14  26881.0  21706.0   5176.0  0.1925  3856.0  0.1434   836.0   4692.0  3984.0    0.59\n",
      "13  台泥(1101)  2021-08-14  27986.0  19377.0   8609.0  0.3076  7044.0  0.2517  2755.0   9799.0  7533.0    1.24\n",
      "14  台泥(1101)  2021-05-15  22038.0  16513.0   5525.0  0.2507  4208.0  0.1909   647.0   4855.0  3319.0    0.57\n",
      "15  台泥(1101)  2021-03-31  32119.0  21745.0  10374.0  0.3230  8505.0  0.2648   631.0   9136.0  6692.0    1.17\n",
      "16  台泥(1101)  2020-11-14  29809.0  19255.0  10554.0  0.3540  9052.0  0.3037  1626.0  10678.0  7473.0    1.30\n",
      "17  台泥(1101)  2020-08-14  30464.0  19584.0  10880.0  0.3571  9325.0  0.3061  1481.0  10806.0  7935.0    1.39\n",
      "18  台泥(1101)  2020-05-15  21976.0  16195.0   5781.0  0.2630  4460.0  0.2030   274.0   4734.0  3000.0    0.55\n",
      "19  台泥(1101)  2020-03-31  35221.0  24842.0  10380.0  0.2947  9262.0  0.2630  -488.0   8774.0  6492.0    1.19\n"
     ]
    }
   ],
   "source": [
    "print(dff.head(20).to_string())\n",
    "dff.to_csv(os.path.join(os.getcwd() , '0050成分股_獲利能力.csv'), encoding='utf-8-sig')"
   ]
  }
 ],
 "metadata": {
  "kernelspec": {
   "display_name": ".venv",
   "language": "python",
   "name": "python3"
  },
  "language_info": {
   "codemirror_mode": {
    "name": "ipython",
    "version": 3
   },
   "file_extension": ".py",
   "mimetype": "text/x-python",
   "name": "python",
   "nbconvert_exporter": "python",
   "pygments_lexer": "ipython3",
   "version": "3.10.11"
  }
 },
 "nbformat": 4,
 "nbformat_minor": 2
}
