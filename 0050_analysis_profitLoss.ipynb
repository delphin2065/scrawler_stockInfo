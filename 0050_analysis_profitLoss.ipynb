{
 "cells": [
  {
   "cell_type": "markdown",
   "metadata": {},
   "source": [
    "### 各季類股上漲分析"
   ]
  },
  {
   "cell_type": "code",
   "execution_count": 183,
   "metadata": {},
   "outputs": [],
   "source": [
    "import pandas as pd\n",
    "import numpy as np\n",
    "import os\n",
    "import yfinance as yf\n",
    "import datetime as dt\n",
    "from matplotlib import pyplot as plt\n",
    "from matplotlib.font_manager import FontProperties as font\n",
    "\n",
    "from sklearn.preprocessing import LabelEncoder\n",
    "from sklearn.model_selection import train_test_split\n",
    "from sklearn.tree import DecisionTreeClassifier, plot_tree\n",
    "from sklearn.metrics import confusion_matrix, ConfusionMatrixDisplay, accuracy_score, classification_report\n",
    "\n",
    "font1 = font(fname=\"/content/drive/MyDrive/Colab Notebooks/font/NotoSansTC-Regular.otf\")"
   ]
  },
  {
   "cell_type": "markdown",
   "metadata": {},
   "source": [
    "### 導入CSV檔案"
   ]
  },
  {
   "cell_type": "code",
   "execution_count": 184,
   "metadata": {},
   "outputs": [
    {
     "name": "stdout",
     "output_type": "stream",
     "text": [
      "            股票名稱   股票類別          季別     營業收入  營業成本  營業毛利  毛利率  營業利益  營益率  業外收支    稅前淨利    稅後淨利  EPS(元)\n",
      "2982  上海商銀(5876)  金融保險業  2008-08-14   3143.0   NaN   NaN  NaN   NaN  NaN   NaN  1818.0  1811.0    0.77\n",
      "2981  上海商銀(5876)  金融保險業  2008-11-14   3448.0   NaN   NaN  NaN   NaN  NaN   NaN  2224.0  1815.0    0.77\n",
      "2980  上海商銀(5876)  金融保險業  2009-03-31  14213.0   NaN   NaN  NaN   NaN  NaN   NaN  5721.0  2006.0    0.85\n",
      "2979  上海商銀(5876)  金融保險業  2009-08-14   3194.0   NaN   NaN  NaN   NaN  NaN   NaN  1705.0  2780.0    1.14\n",
      "2978  上海商銀(5876)  金融保險業  2009-11-14   3475.0   NaN   NaN  NaN   NaN  NaN   NaN  2194.0  1949.0    0.80\n"
     ]
    }
   ],
   "source": [
    "fileName = os.path.join(os.getcwd(), '0050成分股_獲利能力.csv')\n",
    "df = pd.read_csv(fileName, encoding='utf-8-sig')\n",
    "df = df[df.columns[1:]]\n",
    "\n",
    "df.sort_values(by=['股票名稱', '股票類別', '季別'], inplace=True, ascending=True)\n",
    "\n",
    "print(df.head(5).to_string())\n"
   ]
  },
  {
   "cell_type": "markdown",
   "metadata": {},
   "source": [
    "### 計算稅後淨利率"
   ]
  },
  {
   "cell_type": "code",
   "execution_count": 201,
   "metadata": {},
   "outputs": [],
   "source": [
    "df['稅後淨利率'] = df['稅後淨利']/df['營業收入']"
   ]
  },
  {
   "cell_type": "markdown",
   "metadata": {},
   "source": [
    "### 使用yfinance API 連接各類股數據"
   ]
  },
  {
   "cell_type": "code",
   "execution_count": 186,
   "metadata": {},
   "outputs": [
    {
     "name": "stdout",
     "output_type": "stream",
     "text": [
      "         股票名稱   股票類別       Date     稅後淨利率  EPS(元)      Close  漲跌幅_next  漲跌幅_標籤\n",
      "0  上海商銀(5876)  金融保險業 2014-11-14  0.370282    1.38  21.293217  0.050125       1\n",
      "1  上海商銀(5876)  金融保險業 2015-03-31  0.373627    1.49  22.360531  0.018460       1\n",
      "2  上海商銀(5876)  金融保險業 2015-05-15  0.373627    1.49  22.773304 -0.018216      -1\n",
      "3  上海商銀(5876)  金融保險業 2015-08-14  0.383570    1.52  22.358465 -0.147839      -1\n",
      "4  上海商銀(5876)  金融保險業 2016-03-31  0.373255    1.46  19.053022  0.018392       1\n"
     ]
    }
   ],
   "source": [
    "sybq =  [i.split('(')[1].replace(')', '') for i in np.unique(df[['股票名稱']])]\n",
    "endDate = df['季別'].max()\n",
    "startDate = df['季別'].min()\n",
    "\n",
    "\n",
    "dfd = pd.DataFrame()\n",
    "for i in sybq:    \n",
    "    # yahoo finance API 查詢股價\n",
    "    dfy = yf.Ticker(str(i) + '.tw').history(start=startDate, end=endDate, interval='1d')\n",
    "    dfy.index.name = 'Date'\n",
    "    dfy.index = dfy.index.tz_localize(None)\n",
    "    dfy.reset_index(inplace=True, drop=False)\n",
    "    dfy = dfy[['Date', 'Close']].copy()\n",
    "\n",
    "    # 取得基本分析要用到的資料\n",
    "    dff = df[df['股票名稱'].str.contains(str(i), na=False)][['股票名稱', '股票類別', '季別', '稅後淨利率', 'EPS(元)']].copy()\n",
    "    \n",
    "    dff.rename(columns={'季別':'Date'}, inplace=True)\n",
    "    dff['Date'] = pd.to_datetime(dff['Date'], errors='coerce')\n",
    "\n",
    "    # 合併兩資料表\n",
    "    dfc = pd.merge(dff, dfy, how='outer', on='Date').copy()\n",
    "\n",
    "    # 資料回填\n",
    "    dfc.ffill(inplace=True)\n",
    "    \n",
    "    # 篩選資料\n",
    "    condition = ((dfc['Date'].dt.month == 5) & (dfc['Date'].dt.day == 15)) | ((dfc['Date'].dt.month == 8) & (dfc['Date'].dt.day == 14)) |((dfc['Date'].dt.month == 11) & (dfc['Date'].dt.day == 14)) | ((dfc['Date'].dt.month == 3) & (dfc['Date'].dt.day == 31))\n",
    "    dfq = dfc[condition].copy()\n",
    "    dfq.sort_values(by=['Date'], inplace=True)\n",
    "    dfq.dropna(inplace=True, axis=0)\n",
    "    dfq['漲跌幅_next'] = (dfq['Close'].shift(-1) - dfq['Close']) / dfq['Close']\n",
    "    dfq['漲跌幅_標籤'] = np.where(dfq['漲跌幅_next'] > 0, 1, np.where(dfq['漲跌幅_next']==0, 0, -1))\n",
    "    dfq.dropna(inplace=True, axis=0)\n",
    "\n",
    "    dfd = pd.concat([dfd, dfq], axis=0)\n",
    "\n",
    "dfd.reset_index(inplace=True, drop=True)\n",
    "print(dfd.head(5).to_string())"
   ]
  },
  {
   "cell_type": "code",
   "execution_count": 203,
   "metadata": {},
   "outputs": [],
   "source": [
    "dfd.to_csv('Kmeans.csv', encoding='utf-8-sig')"
   ]
  },
  {
   "cell_type": "markdown",
   "metadata": {},
   "source": [
    "### 機器學習 > 決策樹(標籤處理)"
   ]
  },
  {
   "cell_type": "code",
   "execution_count": 204,
   "metadata": {},
   "outputs": [],
   "source": [
    "\n",
    "dfs = dfd[['股票類別', 'Date', '稅後淨利率', 'EPS(元)', '漲跌幅_標籤']].copy()\n",
    "dfs['月份'] = dfs['Date'].dt.month\n",
    "dfss = dfs.copy()\n",
    "label_encoder = LabelEncoder()\n",
    "dfss['股票類別'] = label_encoder.fit_transform(dfss['股票類別'])\n",
    "dfss['月份_標籤'] = label_encoder.fit_transform(dfss['月份'])\n",
    "dfss['漲跌_文字'] = np.where(dfss['漲跌幅_標籤'] == 1, '上漲', np.where(dfss['漲跌幅_標籤']==0, '持平', '下跌'))\n",
    "\n",
    "X = dfss[['股票類別', '月份_標籤', '稅後淨利率', 'EPS(元)']]\n",
    "y = dfss[['漲跌幅_標籤']]\n",
    "\n"
   ]
  },
  {
   "cell_type": "markdown",
   "metadata": {},
   "source": [
    "### 機器學習 > 決策樹(資料處理)"
   ]
  },
  {
   "cell_type": "code",
   "execution_count": 205,
   "metadata": {},
   "outputs": [],
   "source": [
    "# 拆分數據集\n",
    "X_train, X_test, y_train, y_test = train_test_split(X, y, test_size=0.2, random_state=0)\n"
   ]
  },
  {
   "cell_type": "markdown",
   "metadata": {},
   "source": [
    "### 機器學習 > 決策樹(模型產生)"
   ]
  },
  {
   "cell_type": "code",
   "execution_count": 206,
   "metadata": {},
   "outputs": [
    {
     "name": "stdout",
     "output_type": "stream",
     "text": [
      "模型準確率: 0.51\n",
      "\n",
      "分類報告:\n",
      "              precision    recall  f1-score   support\n",
      "\n",
      "          上漲       0.38      0.39      0.38       266\n",
      "          下跌       0.14      0.14      0.14         7\n",
      "          持平       0.60      0.60      0.60       416\n",
      "\n",
      "    accuracy                           0.51       689\n",
      "   macro avg       0.38      0.38      0.38       689\n",
      "weighted avg       0.51      0.51      0.51       689\n",
      "\n"
     ]
    }
   ],
   "source": [
    "clf = DecisionTreeClassifier(random_state=42)\n",
    "clf.fit(X_train, y_train)\n",
    "\n",
    "# 進行預測\n",
    "y_pred = clf.predict(X_test)\n",
    "\n",
    "# 計算準確率\n",
    "accuracy = accuracy_score(y_test, y_pred)\n",
    "print(f'模型準確率: {accuracy:.2f}')\n",
    "\n",
    "# 顯示分類報告\n",
    "print(\"\\n分類報告:\")\n",
    "print(classification_report(y_test, y_pred, target_names=np.unique(dfss['漲跌_文字'])))"
   ]
  },
  {
   "cell_type": "code",
   "execution_count": null,
   "metadata": {},
   "outputs": [],
   "source": []
  },
  {
   "cell_type": "code",
   "execution_count": null,
   "metadata": {},
   "outputs": [],
   "source": []
  }
 ],
 "metadata": {
  "kernelspec": {
   "display_name": ".venv",
   "language": "python",
   "name": "python3"
  },
  "language_info": {
   "codemirror_mode": {
    "name": "ipython",
    "version": 3
   },
   "file_extension": ".py",
   "mimetype": "text/x-python",
   "name": "python",
   "nbconvert_exporter": "python",
   "pygments_lexer": "ipython3",
   "version": "3.10.11"
  }
 },
 "nbformat": 4,
 "nbformat_minor": 2
}
