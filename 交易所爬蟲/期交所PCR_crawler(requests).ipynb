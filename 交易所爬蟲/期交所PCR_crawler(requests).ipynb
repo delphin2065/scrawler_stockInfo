{
 "cells": [
  {
   "cell_type": "markdown",
   "metadata": {},
   "source": [
    "### 抓取期交所PCR資料(Selenium)"
   ]
  },
  {
   "cell_type": "code",
   "execution_count": 3,
   "metadata": {},
   "outputs": [],
   "source": [
    "import pandas as pd\n",
    "import numpy as np\n",
    "import requests\n",
    "import os\n",
    "import datetime as dt\n",
    "from bs4 import BeautifulSoup"
   ]
  },
  {
   "cell_type": "markdown",
   "metadata": {},
   "source": [
    "### 用requests的方式登入交易所網頁"
   ]
  },
  {
   "cell_type": "code",
   "execution_count": 7,
   "metadata": {},
   "outputs": [],
   "source": [
    "\n",
    "startYear, endYear = 2025, 2025\n",
    "\n",
    "df = date_dataframe(startYear=startYear, endYear=endYear)\n",
    "lst = []\n",
    "for k in range(df.shape[0]):\n",
    "    url = 'https://www.taifex.com.tw/cht/3/pcRatio'\n",
    "    headers = {\n",
    "        'Accept': 'text/html,application/xhtml+xml,application/xml;q=0.9,image/avif,image/webp,image/apng,*/*;q=0.8,application/signed-exchange;v=b3;q=0.7',                 \n",
    "        'User-Agent': 'Mozilla/5.0 (Windows NT 10.0; Win64; x64) AppleWebKit/537.36 (KHTML, like Gecko) Chrome/133.0.0.0 Safari/537.36',                     \n",
    "    }\n",
    "\n",
    "    payload = {\n",
    "        'down_type':'',\n",
    "        'queryStartDate':df.loc[k, 'startDate'],\n",
    "        'queryEndDate': df.loc[k, 'endDate'],\n",
    "    }\n",
    "\n",
    "\n",
    "    res_j = requests.post(url, headers=headers, params=payload)\n",
    "    res = BeautifulSoup(res_j.content, 'html.parser')\n",
    "    tab = res.find_all('table', {'class':'table_f table-sticky table-fixed w-730'})\n",
    "\n",
    "    n = len(tab[0].find_all('tr'))\n",
    "    colName = [i.text for i in tab[0].find_all('tr')[0].find_all('th')]\n",
    "    \n",
    "\n",
    "    for i in range(1, n):\n",
    "        row = [i.text.replace('\\t', '').replace('\\r', '').replace('\\n', '') for i in tab[0].find_all('tr')  [i].find_all('td')]\n",
    "        m = len(row)\n",
    "        dd = {}\n",
    "        for j in range(m):\n",
    "            dd[colName[j]] = row[j]\n",
    "        lst.append(dd)\n",
    "\n",
    "\n",
    "    \n",
    "\n",
    "\n",
    "df = pd.DataFrame(lst)\n",
    "\n",
    "df['日期'] = pd.to_datetime(df['日期'])\n",
    "df[df.columns[1:]] = df[df.columns[1:]].apply(lambda x: x.str.replace(',', '', regex=True)).astype(float)\n",
    "df.sort_values(by='日期', inplace=True)"
   ]
  },
  {
   "cell_type": "markdown",
   "metadata": {},
   "source": [
    "### 把登入的歷史時間用函數包裝"
   ]
  },
  {
   "cell_type": "code",
   "execution_count": 8,
   "metadata": {},
   "outputs": [],
   "source": [
    "def date_dataframe(startYear, endYear):\n",
    "    import calendar\n",
    "    import datetime as dt\n",
    "    import pandas as pd\n",
    "    yrs = [i for i in range(startYear, endYear+1)]\n",
    "    month = [i for i in range(1, 13)]\n",
    "\n",
    "    lst_start = []\n",
    "    lst_end = []\n",
    "\n",
    "    for i in yrs:\n",
    "        now = dt.datetime.now()\n",
    "        yrs_now = now.year\n",
    "        month_now = now.month\n",
    "        if i != yrs_now:\n",
    "            for j in month:\n",
    "                start = dt.date(i, j, 1)\n",
    "                end = dt.date(i, j, calendar.monthrange(i, j)[1])\n",
    "                lst_start.append(start)\n",
    "                lst_end.append(end)\n",
    "        if i == yrs_now:\n",
    "            for j in [k for k in range(1, month_now + 1)]:\n",
    "                start = dt.date(i, j, 1)\n",
    "                end = dt.date(i, j, calendar.monthrange(i, j)[1])\n",
    "                lst_start.append(start)\n",
    "                lst_end.append(end)\n",
    "\n",
    "    df = pd.DataFrame()\n",
    "    df['startDate'] = [i.strftime('%Y/%m/%d') for i in lst_start]\n",
    "    df['endDate'] = [i.strftime('%Y/%m/%d') for i in lst_end]\n",
    "    \n",
    "    return df\n",
    "\n",
    "    \n"
   ]
  },
  {
   "cell_type": "markdown",
   "metadata": {},
   "source": [
    "### 資料呈現"
   ]
  },
  {
   "cell_type": "code",
   "execution_count": 9,
   "metadata": {},
   "outputs": [
    {
     "name": "stdout",
     "output_type": "stream",
     "text": [
      "           日期     賣權成交量     買權成交量  買賣權成交量比率%    賣權未平倉量    買權未平倉量  買賣權未平倉量比率%\n",
      "14 2025-01-02  393927.0  522422.0      75.40   85528.0  104662.0       81.72\n",
      "13 2025-01-03  225515.0  238923.0      94.39  120744.0  139332.0       86.66\n",
      "12 2025-01-06  400953.0  334280.0     119.95  173329.0  153175.0      113.16\n",
      "11 2025-01-07  426990.0  437274.0      97.65  193571.0  177985.0      108.76\n",
      "10 2025-01-08  537831.0  640380.0      83.99  101806.0  111995.0       90.90\n",
      "9  2025-01-09  229746.0  296904.0      77.38  127763.0  160622.0       79.54\n",
      "8  2025-01-10  182008.0  237397.0      76.67  141396.0  181146.0       78.06\n",
      "7  2025-01-13  401252.0  574490.0      69.84  151933.0  221090.0       68.72\n",
      "6  2025-01-14  353783.0  370662.0      95.45  170029.0  228683.0       74.35\n",
      "5  2025-01-15  506261.0  569337.0      88.92   61242.0   71893.0       85.18\n",
      "4  2025-01-16  228298.0  228283.0     100.01  108722.0  112016.0       97.06\n",
      "3  2025-01-17  287036.0  366660.0      78.28  132315.0  137679.0       96.10\n",
      "2  2025-01-20  224503.0  227422.0      98.72  148468.0  144303.0      102.89\n",
      "1  2025-01-21  255531.0  283746.0      90.06  161117.0  157286.0      102.44\n",
      "0  2025-01-22  468698.0  442884.0     105.83   86999.0   84127.0      103.41\n",
      "33 2025-02-03  286615.0  356721.0      80.35   78424.0   82332.0       95.25\n",
      "32 2025-02-04  268867.0  257026.0     104.61  120245.0  139954.0       85.92\n",
      "31 2025-02-05  448433.0  403311.0     111.19   93245.0   87666.0      106.36\n",
      "30 2025-02-06  166506.0  152095.0     109.47  125937.0  116974.0      107.66\n",
      "29 2025-02-07  170402.0  131283.0     129.80  149798.0  130517.0      114.77\n",
      "28 2025-02-10  263218.0  280855.0      93.72  163442.0  161551.0      101.17\n",
      "27 2025-02-11  260672.0  257659.0     101.17  176413.0  171533.0      102.84\n",
      "26 2025-02-12  469358.0  456010.0     102.93  112164.0  110563.0      101.45\n",
      "25 2025-02-13  202553.0  200101.0     101.23  141184.0  132766.0      106.34\n",
      "24 2025-02-14  204311.0  241085.0      84.75  148662.0  161387.0       92.12\n",
      "23 2025-02-17  273920.0  251001.0     109.13  174742.0  165618.0      105.51\n",
      "22 2025-02-18  224675.0  175732.0     127.85  194741.0  165777.0      117.47\n",
      "21 2025-02-19  463882.0  475896.0      97.48   81793.0   73705.0      110.97\n",
      "20 2025-02-20  160947.0  182463.0      88.21  115359.0  107258.0      107.55\n",
      "19 2025-02-21  236935.0  198251.0     119.51  137892.0  121579.0      113.42\n",
      "18 2025-02-24  224809.0  228209.0      98.51  153711.0  149825.0      102.59\n",
      "17 2025-02-25  360822.0  397389.0      90.80  156159.0  179964.0       86.77\n",
      "16 2025-02-26  644216.0  557718.0     115.51   96617.0  100461.0       96.17\n",
      "15 2025-02-27  225243.0  250911.0      89.77  120559.0  144241.0       83.58\n",
      "45 2025-03-03  316742.0  378943.0      83.59  139000.0  187683.0       74.06\n",
      "44 2025-03-04  521042.0  511949.0     101.78  177218.0  207752.0       85.30\n",
      "43 2025-03-05  687941.0  623931.0     110.26  104393.0  107734.0       96.90\n",
      "42 2025-03-06  191010.0  209440.0      91.20  129874.0  145241.0       89.42\n",
      "41 2025-03-07  239535.0  262945.0      91.10  142853.0  168314.0       84.87\n",
      "40 2025-03-10  316492.0  348090.0      90.92  159939.0  195984.0       81.61\n",
      "39 2025-03-11  432651.0  537746.0      80.46  173058.0  220271.0       78.57\n",
      "38 2025-03-12  711488.0  631696.0     112.63  113153.0  122662.0       92.25\n",
      "37 2025-03-13  298213.0  313239.0      95.20  143014.0  172573.0       82.87\n",
      "36 2025-03-14  282606.0  264639.0     106.79  160315.0  193646.0       82.79\n",
      "35 2025-03-17  300568.0  278745.0     107.83  182245.0  206835.0       88.11\n",
      "34 2025-03-18  326381.0  296334.0     110.14  208530.0  218268.0       95.54\n"
     ]
    }
   ],
   "source": [
    "print(df.to_string())"
   ]
  }
 ],
 "metadata": {
  "kernelspec": {
   "display_name": ".venv",
   "language": "python",
   "name": "python3"
  },
  "language_info": {
   "codemirror_mode": {
    "name": "ipython",
    "version": 3
   },
   "file_extension": ".py",
   "mimetype": "text/x-python",
   "name": "python",
   "nbconvert_exporter": "python",
   "pygments_lexer": "ipython3",
   "version": "3.10.11"
  }
 },
 "nbformat": 4,
 "nbformat_minor": 2
}
